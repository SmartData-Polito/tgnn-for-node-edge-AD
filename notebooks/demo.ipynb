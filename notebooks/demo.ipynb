{
 "cells": [
  {
   "cell_type": "markdown",
   "id": "b4725f09",
   "metadata": {
    "tags": []
   },
   "source": [
    "# Anomaly Detection with Temporal-GNN\n",
    "## Demo\n",
    "___"
   ]
  },
  {
   "cell_type": "code",
   "execution_count": 3,
   "id": "bf9993b3-8a33-48ee-88e1-d4ee1ef0b4e8",
   "metadata": {
    "tags": []
   },
   "outputs": [],
   "source": [
    "import sys\n",
    "sys.path.append('../')\n",
    "\n",
    "from scripts.utils import (generate_val_test_lab_nodes, \n",
    "                           generate_val_test_lab_edges)\n",
    "from scripts.tgnn import GCN_GRU\n",
    "from torch import load as tc_load\n",
    "from sklearn.metrics import roc_auc_score\n",
    "import torch\n",
    "from matplotlib import pyplot as plt\n",
    "\n",
    "CUDA = torch.cuda.is_available()"
   ]
  },
  {
   "cell_type": "markdown",
   "id": "40813990-dfa1-4ae7-9d82-3f568e4cecdf",
   "metadata": {
    "tags": []
   },
   "source": [
    "### Dataset Preparation"
   ]
  },
  {
   "cell_type": "code",
   "execution_count": 4,
   "id": "0154f7ff-36fb-4db5-9446-ce68b4c38800",
   "metadata": {
    "tags": []
   },
   "outputs": [],
   "source": [
    "dset = \"reddit\"\n",
    "X = tc_load(f\"../data/adjs_anom_{dset}\")\n",
    "anomalies_edges_idx = tc_load(f\"../data/anomalies_edges_idx_{dset}\")\n",
    "anomalies_nodes_idx = tc_load(f\"../data/anomalies_nodes_idx_{dset}\")\n",
    "\n",
    "# Total number of nodes\n",
    "n_nodes = X[0].shape[0]\n",
    "# Number of time-steps used for (history, training, validation, test)\n",
    "if dset == \"reddit\":\n",
    "    hist, train_start, train_end, val, test = (10, 9, 19, 5, len(X)-1)\n",
    "    bipartite = True\n",
    "elif dset == \"webbrowsing\":\n",
    "    hist, train_start, train_end, val, test = (0, 9, 19, 5, len(X)-1)\n",
    "    bipartite = True\n",
    "elif dset == \"stackoverflow\":\n",
    "    hist, train_start, train_end, val, test = (10, 9, 19, 5, len(X)-1)\n",
    "    bipartite = False\n",
    "elif dset == \"uci\":\n",
    "    hist, train_start, train_end, val, test = (0, 9, 19, 5, len(X)-1)\n",
    "    bipartite = False\n",
    "\n",
    "splits = (hist, train_start, train_end, val, test)"
   ]
  },
  {
   "cell_type": "markdown",
   "id": "cc52372e-77b5-4a51-ba1d-7dee8bc401a2",
   "metadata": {},
   "source": [
    "Set hyperparameters"
   ]
  },
  {
   "cell_type": "code",
   "execution_count": 5,
   "id": "a35a6d4d-e19b-457e-ba72-62aeeb70f87c",
   "metadata": {
    "tags": []
   },
   "outputs": [],
   "source": [
    "nout=1024 # Output size of GCN\n",
    "nout_gru=128 # Output size of GRU\n",
    "nhid_gcn=128 # Hidden size of GCN (only if n_layers > 1)\n",
    "nhid_edges=64 # Hidden size for edge anomaly score\n",
    "nhid_nodes=64 # Hidden size for node anomaly score\n",
    "dropout=.0 # Dropout of GCN\n",
    "n_layers=2 # Number of layers of GCN\n",
    "ns=1 # Proportion of negative samples for nodes\n",
    "ns_edge=1 # Proportion of negative samples for edges (only for GCN-GRU-edges)\n",
    "anomalies_thr = 3 # How many anomalous edges make a node anomalous\n",
    "lr=0.001 # Learning rate\n",
    "epochs=10 # Number of epochs "
   ]
  },
  {
   "cell_type": "code",
   "execution_count": 6,
   "id": "e924e072-cdc7-4a4a-ae43-27b893513c98",
   "metadata": {},
   "outputs": [],
   "source": [
    "nhid_gcn, nout, nout_gru, nhid_edges, nhid_nodes, λ = 1024, 1024, 32, 64, 32, .3"
   ]
  },
  {
   "cell_type": "markdown",
   "id": "c8c5f06c-38ef-4303-9043-6a88fb7a9d0e",
   "metadata": {
    "tags": []
   },
   "source": [
    "## Node Anomaly Detection\n",
    "___\n",
    "Train and evaluate a node-only model"
   ]
  },
  {
   "cell_type": "code",
   "execution_count": 7,
   "id": "5008a948-76ff-47f0-b757-00c8a6b54798",
   "metadata": {
    "tags": []
   },
   "outputs": [],
   "source": [
    "# Get the validation and test labels. Skip training labels (self-supervised)\n",
    "y_val, y_test = generate_val_test_lab_nodes(X, train_end, val, test, anomalies_edges_idx, anomalies_thr=anomalies_thr, anomalies_nodes_idx=anomalies_nodes_idx,bipartite=bipartite)"
   ]
  },
  {
   "cell_type": "markdown",
   "id": "6735bd51",
   "metadata": {},
   "source": [
    "T-GNN Training"
   ]
  },
  {
   "cell_type": "code",
   "execution_count": null,
   "id": "19627561-1401-4899-afb9-400a2aed6de6",
   "metadata": {
    "scrolled": true,
    "tags": []
   },
   "outputs": [],
   "source": [
    "# Initalize the model\n",
    "model = GCN_GRU(n=n_nodes, entities='nodes', ns=ns, splits=splits, epochs=epochs, bipartite=bipartite,\n",
    "               nout=nout, nout_gru=nout_gru, nhid_gcn=nhid_gcn, nhid_nodes=nhid_nodes, dropout=dropout, \n",
    "                n_layers=n_layers, lr=lr, cuda=CUDA)\n",
    "# Run the self-supervised training\n",
    "model.fit(X, y_val, dset=dset, save=False)"
   ]
  },
  {
   "cell_type": "markdown",
   "id": "3102f81a",
   "metadata": {},
   "source": [
    "T-GNN Test"
   ]
  },
  {
   "cell_type": "code",
   "execution_count": null,
   "id": "d125ccd8-5c37-4466-be6f-cc78c331c419",
   "metadata": {
    "tags": []
   },
   "outputs": [],
   "source": [
    "# Predict\n",
    "y_pred = model.predict(X, save=False, ret_emb=False)\n",
    "test_auc = roc_auc_score(y_test.numpy(), y_pred.cpu().numpy())\n",
    "print(f'Test AUC: {test_auc}')"
   ]
  },
  {
   "cell_type": "markdown",
   "id": "563a32b1-4812-4576-9f66-78db6b1511aa",
   "metadata": {
    "tags": []
   },
   "source": [
    "## Edges\n",
    "___\n",
    "Train and evaluate an edge-only model"
   ]
  },
  {
   "cell_type": "code",
   "execution_count": 13,
   "id": "5999031b-5319-4b2a-8204-ef20474182dd",
   "metadata": {},
   "outputs": [],
   "source": [
    "# Get the validation and test labels. Skip training labels (self-supervised)\n",
    "y_val, y_test = generate_val_test_lab_edges(X, train_end, val, test, anomalies_edges_idx)"
   ]
  },
  {
   "cell_type": "markdown",
   "id": "3d261294-ce96-44d9-9b96-377f79885c62",
   "metadata": {},
   "source": [
    "T-GNN Training"
   ]
  },
  {
   "cell_type": "code",
   "execution_count": null,
   "id": "ece4686f-7226-4364-bf67-a6e36e2556dd",
   "metadata": {
    "scrolled": true,
    "tags": []
   },
   "outputs": [],
   "source": [
    "# Initalize the model\n",
    "model = GCN_GRU(n=n_nodes, entities='edges', ns=ns, splits=splits, epochs=epochs, bipartite=bipartite, ns_edge=1,\n",
    "               nout=nout, nout_gru=nout_gru, nhid_gcn=nhid_gcn, dropout=dropout, \n",
    "                n_layers=n_layers, lr=lr, cuda=CUDA, nhid_edges=nhid_edges)\n",
    "# Run the self-supervised training\n",
    "model.fit(X, y_val, dset=dset, save=False)"
   ]
  },
  {
   "cell_type": "code",
   "execution_count": null,
   "id": "a5211a4d-ffe6-4e8d-9db6-a8efad38ff27",
   "metadata": {
    "tags": []
   },
   "outputs": [],
   "source": [
    "# Predict\n",
    "y_pred = model.predict(X, y=y_test.cpu(), save=False, ret_emb=False)\n",
    "test_auc = roc_auc_score(y_test.numpy(), y_pred.cpu().numpy())\n",
    "print(f'Test AUC: {test_auc}')"
   ]
  },
  {
   "cell_type": "markdown",
   "id": "601f41e2-8b4e-4b48-9167-7f51d9a506fb",
   "metadata": {
    "tags": []
   },
   "source": [
    "# Both\n",
    "----\n",
    "Train and evaluate a *multitask* model for edge and node anomaly detection"
   ]
  },
  {
   "cell_type": "code",
   "execution_count": 16,
   "id": "1601ca91-2975-49ad-a44a-c465f73393fa",
   "metadata": {
    "tags": []
   },
   "outputs": [],
   "source": [
    "y_val_edges, y_test_edges = generate_val_test_lab_edges(X, train_end, val, test, anomalies_edges_idx)\n",
    "y_val_nodes, y_test_nodes = generate_val_test_lab_nodes(X, train_end, val, test, anomalies_edges_idx, anomalies_thr=anomalies_thr, anomalies_nodes_idx=anomalies_nodes_idx,bipartite=bipartite)\n",
    "y_val = (y_val_edges, y_val_nodes)\n",
    "y_test = (y_test_edges, y_test_nodes)"
   ]
  },
  {
   "cell_type": "code",
   "execution_count": null,
   "id": "7827b841-94c1-4969-abcf-3bd05f9e3c03",
   "metadata": {
    "scrolled": true,
    "tags": []
   },
   "outputs": [],
   "source": [
    "# Initalize the model\n",
    "model = GCN_GRU(n=n_nodes, entities='both', ns=ns, splits=splits, epochs=epochs, LAMBDA=λ, bipartite=bipartite,\n",
    "                       nout=nout, nout_gru=nout_gru, nhid_gcn=nhid_gcn, nhid_edges=nhid_edges, nhid_nodes=nhid_nodes, \n",
    "                        dropout=dropout, n_layers=n_layers, lr=lr, cuda=CUDA)\n",
    "# Run the self-supervised training\n",
    "model.fit(X, y_val, dset=dset, save=False)"
   ]
  },
  {
   "cell_type": "code",
   "execution_count": null,
   "id": "7279ae77-fb42-4399-80b7-7f049cf0f467",
   "metadata": {},
   "outputs": [],
   "source": [
    "# Predict\n",
    "y_pred = model.predict(X, y=y_test, save=False, ret_emb=False)\n",
    "y_pred_edges, y_pred_nodes = y_pred\n",
    "y_edges, y_nodes = y_test\n",
    "test_auc_edges = roc_auc_score(y_edges.numpy(), y_pred_edges.cpu().numpy())\n",
    "test_auc_nodes = roc_auc_score(y_nodes.numpy(), y_pred_nodes.cpu().numpy())\n",
    "print(f'Test AUC edges: {test_auc_edges} Test AUC nodes: {test_auc_nodes, 3}')"
   ]
  }
 ],
 "metadata": {
  "kernelspec": {
   "display_name": "Python 3 (ipykernel)",
   "language": "python",
   "name": "python3"
  },
  "language_info": {
   "codemirror_mode": {
    "name": "ipython",
    "version": 3
   },
   "file_extension": ".py",
   "mimetype": "text/x-python",
   "name": "python",
   "nbconvert_exporter": "python",
   "pygments_lexer": "ipython3",
   "version": "3.11.5"
  }
 },
 "nbformat": 4,
 "nbformat_minor": 5
}
